{
 "cells": [
  {
   "cell_type": "code",
   "execution_count": 1,
   "id": "e5776e59",
   "metadata": {},
   "outputs": [],
   "source": [
    "import pandas as pd \n",
    "import numpy as np\n",
    "import matplotlib.pyplot as plt \n",
    "import seaborn as sns \n",
    "\n",
    "\n",
    "test = pd.read_csv('/Users/kimdaehyeon/dacon/데이콘 Basic 해외 부동산 월세 예측 AI 경진대회/open/test.csv')\n",
    "train = pd.read_csv('/Users/kimdaehyeon/dacon/데이콘 Basic 해외 부동산 월세 예측 AI 경진대회/open/train.csv')"
   ]
  },
  {
   "cell_type": "code",
   "execution_count": 2,
   "id": "b132474f",
   "metadata": {},
   "outputs": [],
   "source": [
    "# 한글 폰트 깨짐 현상 방지\n",
    "import matplotlib.pyplot as plt \n",
    "import platform                \n",
    "\n",
    "from matplotlib import font_manager, rc\n",
    "plt.rcParams['axes.unicode_minus']= False\n",
    "\n",
    "if platform.system() == 'Darwin':\n",
    "    plt.style.use('seaborn-darkgrid') \n",
    "    rc('font', family = 'AppleGothic')"
   ]
  },
  {
   "cell_type": "markdown",
   "id": "527a1b80",
   "metadata": {},
   "source": [
    "# 데이터 살펴보기"
   ]
  },
  {
   "cell_type": "code",
   "execution_count": 3,
   "id": "686cfc92",
   "metadata": {},
   "outputs": [
    {
     "data": {
      "text/html": [
       "<div>\n",
       "<style scoped>\n",
       "    .dataframe tbody tr th:only-of-type {\n",
       "        vertical-align: middle;\n",
       "    }\n",
       "\n",
       "    .dataframe tbody tr th {\n",
       "        vertical-align: top;\n",
       "    }\n",
       "\n",
       "    .dataframe thead th {\n",
       "        text-align: right;\n",
       "    }\n",
       "</style>\n",
       "<table border=\"1\" class=\"dataframe\">\n",
       "  <thead>\n",
       "    <tr style=\"text-align: right;\">\n",
       "      <th></th>\n",
       "      <th>ID</th>\n",
       "      <th>propertyType</th>\n",
       "      <th>bedrooms</th>\n",
       "      <th>latitude</th>\n",
       "      <th>longitude</th>\n",
       "      <th>suburbName</th>\n",
       "      <th>distanceMetro(km)</th>\n",
       "      <th>distanceAirport(km)</th>\n",
       "      <th>distanceHospital(km)</th>\n",
       "      <th>distanceRailway(km)</th>\n",
       "      <th>area(square_meters)</th>\n",
       "      <th>monthlyRent(us_dollar)</th>\n",
       "    </tr>\n",
       "  </thead>\n",
       "  <tbody>\n",
       "    <tr>\n",
       "      <th>0</th>\n",
       "      <td>Train_0000</td>\n",
       "      <td>Apartment</td>\n",
       "      <td>3</td>\n",
       "      <td>28.638710</td>\n",
       "      <td>77.295822</td>\n",
       "      <td>Delhi East</td>\n",
       "      <td>0.312579</td>\n",
       "      <td>22.646032</td>\n",
       "      <td>11.726966</td>\n",
       "      <td>7.352495</td>\n",
       "      <td>83.61</td>\n",
       "      <td>307</td>\n",
       "    </tr>\n",
       "    <tr>\n",
       "      <th>1</th>\n",
       "      <td>Train_0001</td>\n",
       "      <td>Independent Floor</td>\n",
       "      <td>1</td>\n",
       "      <td>28.498940</td>\n",
       "      <td>77.207191</td>\n",
       "      <td>Delhi South</td>\n",
       "      <td>2.486167</td>\n",
       "      <td>13.500583</td>\n",
       "      <td>7.527761</td>\n",
       "      <td>15.877066</td>\n",
       "      <td>83.61</td>\n",
       "      <td>110</td>\n",
       "    </tr>\n",
       "    <tr>\n",
       "      <th>2</th>\n",
       "      <td>Train_0002</td>\n",
       "      <td>Independent Floor</td>\n",
       "      <td>3</td>\n",
       "      <td>28.714123</td>\n",
       "      <td>77.154404</td>\n",
       "      <td>Delhi North</td>\n",
       "      <td>1.528794</td>\n",
       "      <td>18.918243</td>\n",
       "      <td>17.135939</td>\n",
       "      <td>10.315737</td>\n",
       "      <td>78.97</td>\n",
       "      <td>369</td>\n",
       "    </tr>\n",
       "    <tr>\n",
       "      <th>3</th>\n",
       "      <td>Train_0003</td>\n",
       "      <td>Independent Floor</td>\n",
       "      <td>3</td>\n",
       "      <td>28.704330</td>\n",
       "      <td>77.149956</td>\n",
       "      <td>Other</td>\n",
       "      <td>0.967121</td>\n",
       "      <td>17.749252</td>\n",
       "      <td>16.251937</td>\n",
       "      <td>9.797817</td>\n",
       "      <td>162.58</td>\n",
       "      <td>676</td>\n",
       "    </tr>\n",
       "    <tr>\n",
       "      <th>4</th>\n",
       "      <td>Train_0004</td>\n",
       "      <td>Apartment</td>\n",
       "      <td>4</td>\n",
       "      <td>28.577915</td>\n",
       "      <td>77.049446</td>\n",
       "      <td>Dwarka</td>\n",
       "      <td>0.834506</td>\n",
       "      <td>4.288189</td>\n",
       "      <td>15.541840</td>\n",
       "      <td>18.179806</td>\n",
       "      <td>218.32</td>\n",
       "      <td>418</td>\n",
       "    </tr>\n",
       "  </tbody>\n",
       "</table>\n",
       "</div>"
      ],
      "text/plain": [
       "           ID       propertyType  bedrooms   latitude  longitude   suburbName  \\\n",
       "0  Train_0000          Apartment         3  28.638710  77.295822   Delhi East   \n",
       "1  Train_0001  Independent Floor         1  28.498940  77.207191  Delhi South   \n",
       "2  Train_0002  Independent Floor         3  28.714123  77.154404  Delhi North   \n",
       "3  Train_0003  Independent Floor         3  28.704330  77.149956        Other   \n",
       "4  Train_0004          Apartment         4  28.577915  77.049446       Dwarka   \n",
       "\n",
       "   distanceMetro(km)  distanceAirport(km)  distanceHospital(km)  \\\n",
       "0           0.312579            22.646032             11.726966   \n",
       "1           2.486167            13.500583              7.527761   \n",
       "2           1.528794            18.918243             17.135939   \n",
       "3           0.967121            17.749252             16.251937   \n",
       "4           0.834506             4.288189             15.541840   \n",
       "\n",
       "   distanceRailway(km)  area(square_meters)  monthlyRent(us_dollar)  \n",
       "0             7.352495                83.61                     307  \n",
       "1            15.877066                83.61                     110  \n",
       "2            10.315737                78.97                     369  \n",
       "3             9.797817               162.58                     676  \n",
       "4            18.179806               218.32                     418  "
      ]
     },
     "execution_count": 3,
     "metadata": {},
     "output_type": "execute_result"
    }
   ],
   "source": [
    "train.head() # latitude = 위도, longitude = 경도, suburb = 지역 이름\n",
    "\n",
    "# y값은 monthlyRent(us_dollar)로 하기"
   ]
  },
  {
   "cell_type": "code",
   "execution_count": 4,
   "id": "033a90f6",
   "metadata": {},
   "outputs": [
    {
     "data": {
      "text/html": [
       "<div>\n",
       "<style scoped>\n",
       "    .dataframe tbody tr th:only-of-type {\n",
       "        vertical-align: middle;\n",
       "    }\n",
       "\n",
       "    .dataframe tbody tr th {\n",
       "        vertical-align: top;\n",
       "    }\n",
       "\n",
       "    .dataframe thead th {\n",
       "        text-align: right;\n",
       "    }\n",
       "</style>\n",
       "<table border=\"1\" class=\"dataframe\">\n",
       "  <thead>\n",
       "    <tr style=\"text-align: right;\">\n",
       "      <th></th>\n",
       "      <th>ID</th>\n",
       "      <th>propertyType</th>\n",
       "      <th>bedrooms</th>\n",
       "      <th>latitude</th>\n",
       "      <th>longitude</th>\n",
       "      <th>suburbName</th>\n",
       "      <th>distanceMetro(km)</th>\n",
       "      <th>distanceAirport(km)</th>\n",
       "      <th>distanceHospital(km)</th>\n",
       "      <th>distanceRailway(km)</th>\n",
       "      <th>area(square_meters)</th>\n",
       "    </tr>\n",
       "  </thead>\n",
       "  <tbody>\n",
       "    <tr>\n",
       "      <th>0</th>\n",
       "      <td>Test_0000</td>\n",
       "      <td>Independent House</td>\n",
       "      <td>1</td>\n",
       "      <td>28.644199</td>\n",
       "      <td>77.162407</td>\n",
       "      <td>Delhi Central</td>\n",
       "      <td>0.675741</td>\n",
       "      <td>12.480545</td>\n",
       "      <td>9.653289</td>\n",
       "      <td>5.706151</td>\n",
       "      <td>55.74</td>\n",
       "    </tr>\n",
       "    <tr>\n",
       "      <th>1</th>\n",
       "      <td>Test_0001</td>\n",
       "      <td>Independent Floor</td>\n",
       "      <td>3</td>\n",
       "      <td>28.724508</td>\n",
       "      <td>77.087051</td>\n",
       "      <td>West Delhi</td>\n",
       "      <td>1.992787</td>\n",
       "      <td>18.799390</td>\n",
       "      <td>21.086929</td>\n",
       "      <td>15.963967</td>\n",
       "      <td>88.26</td>\n",
       "    </tr>\n",
       "    <tr>\n",
       "      <th>2</th>\n",
       "      <td>Test_0002</td>\n",
       "      <td>Independent Floor</td>\n",
       "      <td>3</td>\n",
       "      <td>28.672693</td>\n",
       "      <td>77.103973</td>\n",
       "      <td>West Delhi</td>\n",
       "      <td>0.678442</td>\n",
       "      <td>13.190977</td>\n",
       "      <td>15.514042</td>\n",
       "      <td>11.916831</td>\n",
       "      <td>111.48</td>\n",
       "    </tr>\n",
       "    <tr>\n",
       "      <th>3</th>\n",
       "      <td>Test_0003</td>\n",
       "      <td>Independent Floor</td>\n",
       "      <td>1</td>\n",
       "      <td>28.645021</td>\n",
       "      <td>77.169235</td>\n",
       "      <td>Delhi Central</td>\n",
       "      <td>0.003422</td>\n",
       "      <td>12.968327</td>\n",
       "      <td>9.448341</td>\n",
       "      <td>5.045234</td>\n",
       "      <td>59.92</td>\n",
       "    </tr>\n",
       "    <tr>\n",
       "      <th>4</th>\n",
       "      <td>Test_0004</td>\n",
       "      <td>Independent Floor</td>\n",
       "      <td>1</td>\n",
       "      <td>28.607435</td>\n",
       "      <td>77.289627</td>\n",
       "      <td>Delhi East</td>\n",
       "      <td>0.299808</td>\n",
       "      <td>20.878677</td>\n",
       "      <td>9.180785</td>\n",
       "      <td>7.736478</td>\n",
       "      <td>27.87</td>\n",
       "    </tr>\n",
       "  </tbody>\n",
       "</table>\n",
       "</div>"
      ],
      "text/plain": [
       "          ID       propertyType  bedrooms   latitude  longitude  \\\n",
       "0  Test_0000  Independent House         1  28.644199  77.162407   \n",
       "1  Test_0001  Independent Floor         3  28.724508  77.087051   \n",
       "2  Test_0002  Independent Floor         3  28.672693  77.103973   \n",
       "3  Test_0003  Independent Floor         1  28.645021  77.169235   \n",
       "4  Test_0004  Independent Floor         1  28.607435  77.289627   \n",
       "\n",
       "      suburbName  distanceMetro(km)  distanceAirport(km)  \\\n",
       "0  Delhi Central           0.675741            12.480545   \n",
       "1     West Delhi           1.992787            18.799390   \n",
       "2     West Delhi           0.678442            13.190977   \n",
       "3  Delhi Central           0.003422            12.968327   \n",
       "4     Delhi East           0.299808            20.878677   \n",
       "\n",
       "   distanceHospital(km)  distanceRailway(km)  area(square_meters)  \n",
       "0              9.653289             5.706151                55.74  \n",
       "1             21.086929            15.963967                88.26  \n",
       "2             15.514042            11.916831               111.48  \n",
       "3              9.448341             5.045234                59.92  \n",
       "4              9.180785             7.736478                27.87  "
      ]
     },
     "execution_count": 4,
     "metadata": {},
     "output_type": "execute_result"
    }
   ],
   "source": [
    "test.head()"
   ]
  },
  {
   "cell_type": "code",
   "execution_count": 5,
   "id": "e45cf545",
   "metadata": {},
   "outputs": [
    {
     "data": {
      "text/plain": [
       "((8692, 12), (8693, 11))"
      ]
     },
     "execution_count": 5,
     "metadata": {},
     "output_type": "execute_result"
    }
   ],
   "source": [
    "train.shape, test.shape"
   ]
  },
  {
   "cell_type": "code",
   "execution_count": 6,
   "id": "b511630e",
   "metadata": {},
   "outputs": [
    {
     "data": {
      "text/html": [
       "<div>\n",
       "<style scoped>\n",
       "    .dataframe tbody tr th:only-of-type {\n",
       "        vertical-align: middle;\n",
       "    }\n",
       "\n",
       "    .dataframe tbody tr th {\n",
       "        vertical-align: top;\n",
       "    }\n",
       "\n",
       "    .dataframe thead th {\n",
       "        text-align: right;\n",
       "    }\n",
       "</style>\n",
       "<table border=\"1\" class=\"dataframe\">\n",
       "  <thead>\n",
       "    <tr style=\"text-align: right;\">\n",
       "      <th></th>\n",
       "      <th>count</th>\n",
       "      <th>mean</th>\n",
       "      <th>std</th>\n",
       "      <th>min</th>\n",
       "      <th>25%</th>\n",
       "      <th>50%</th>\n",
       "      <th>75%</th>\n",
       "      <th>max</th>\n",
       "    </tr>\n",
       "  </thead>\n",
       "  <tbody>\n",
       "    <tr>\n",
       "      <th>bedrooms</th>\n",
       "      <td>8692.0</td>\n",
       "      <td>2.119650</td>\n",
       "      <td>0.900757</td>\n",
       "      <td>1.000000</td>\n",
       "      <td>1.000000</td>\n",
       "      <td>2.000000</td>\n",
       "      <td>3.000000</td>\n",
       "      <td>8.000000</td>\n",
       "    </tr>\n",
       "    <tr>\n",
       "      <th>latitude</th>\n",
       "      <td>8692.0</td>\n",
       "      <td>28.611199</td>\n",
       "      <td>0.070853</td>\n",
       "      <td>26.467743</td>\n",
       "      <td>28.563490</td>\n",
       "      <td>28.616885</td>\n",
       "      <td>28.651827</td>\n",
       "      <td>28.872597</td>\n",
       "    </tr>\n",
       "    <tr>\n",
       "      <th>longitude</th>\n",
       "      <td>8692.0</td>\n",
       "      <td>77.167464</td>\n",
       "      <td>0.093600</td>\n",
       "      <td>76.742523</td>\n",
       "      <td>77.102028</td>\n",
       "      <td>77.168053</td>\n",
       "      <td>77.224998</td>\n",
       "      <td>80.339027</td>\n",
       "    </tr>\n",
       "    <tr>\n",
       "      <th>distanceMetro(km)</th>\n",
       "      <td>8692.0</td>\n",
       "      <td>0.869998</td>\n",
       "      <td>1.261337</td>\n",
       "      <td>0.002892</td>\n",
       "      <td>0.459687</td>\n",
       "      <td>0.698592</td>\n",
       "      <td>1.092694</td>\n",
       "      <td>65.866623</td>\n",
       "    </tr>\n",
       "    <tr>\n",
       "      <th>distanceAirport(km)</th>\n",
       "      <td>8692.0</td>\n",
       "      <td>13.699359</td>\n",
       "      <td>7.926709</td>\n",
       "      <td>1.901789</td>\n",
       "      <td>11.152285</td>\n",
       "      <td>13.139656</td>\n",
       "      <td>17.225196</td>\n",
       "      <td>396.043067</td>\n",
       "    </tr>\n",
       "    <tr>\n",
       "      <th>distanceHospital(km)</th>\n",
       "      <td>8692.0</td>\n",
       "      <td>11.373803</td>\n",
       "      <td>7.500915</td>\n",
       "      <td>0.669150</td>\n",
       "      <td>8.167231</td>\n",
       "      <td>10.922441</td>\n",
       "      <td>15.548549</td>\n",
       "      <td>387.016246</td>\n",
       "    </tr>\n",
       "    <tr>\n",
       "      <th>distanceRailway(km)</th>\n",
       "      <td>8692.0</td>\n",
       "      <td>11.419991</td>\n",
       "      <td>7.345131</td>\n",
       "      <td>0.722023</td>\n",
       "      <td>8.075549</td>\n",
       "      <td>11.244344</td>\n",
       "      <td>15.435535</td>\n",
       "      <td>390.969378</td>\n",
       "    </tr>\n",
       "    <tr>\n",
       "      <th>area(square_meters)</th>\n",
       "      <td>8692.0</td>\n",
       "      <td>101.990737</td>\n",
       "      <td>59.355027</td>\n",
       "      <td>9.290000</td>\n",
       "      <td>55.740000</td>\n",
       "      <td>83.610000</td>\n",
       "      <td>139.350000</td>\n",
       "      <td>882.580000</td>\n",
       "    </tr>\n",
       "    <tr>\n",
       "      <th>monthlyRent(us_dollar)</th>\n",
       "      <td>8692.0</td>\n",
       "      <td>321.376898</td>\n",
       "      <td>230.962181</td>\n",
       "      <td>14.000000</td>\n",
       "      <td>159.000000</td>\n",
       "      <td>258.000000</td>\n",
       "      <td>393.000000</td>\n",
       "      <td>1476.000000</td>\n",
       "    </tr>\n",
       "  </tbody>\n",
       "</table>\n",
       "</div>"
      ],
      "text/plain": [
       "                         count        mean         std        min         25%  \\\n",
       "bedrooms                8692.0    2.119650    0.900757   1.000000    1.000000   \n",
       "latitude                8692.0   28.611199    0.070853  26.467743   28.563490   \n",
       "longitude               8692.0   77.167464    0.093600  76.742523   77.102028   \n",
       "distanceMetro(km)       8692.0    0.869998    1.261337   0.002892    0.459687   \n",
       "distanceAirport(km)     8692.0   13.699359    7.926709   1.901789   11.152285   \n",
       "distanceHospital(km)    8692.0   11.373803    7.500915   0.669150    8.167231   \n",
       "distanceRailway(km)     8692.0   11.419991    7.345131   0.722023    8.075549   \n",
       "area(square_meters)     8692.0  101.990737   59.355027   9.290000   55.740000   \n",
       "monthlyRent(us_dollar)  8692.0  321.376898  230.962181  14.000000  159.000000   \n",
       "\n",
       "                               50%         75%          max  \n",
       "bedrooms                  2.000000    3.000000     8.000000  \n",
       "latitude                 28.616885   28.651827    28.872597  \n",
       "longitude                77.168053   77.224998    80.339027  \n",
       "distanceMetro(km)         0.698592    1.092694    65.866623  \n",
       "distanceAirport(km)      13.139656   17.225196   396.043067  \n",
       "distanceHospital(km)     10.922441   15.548549   387.016246  \n",
       "distanceRailway(km)      11.244344   15.435535   390.969378  \n",
       "area(square_meters)      83.610000  139.350000   882.580000  \n",
       "monthlyRent(us_dollar)  258.000000  393.000000  1476.000000  "
      ]
     },
     "execution_count": 6,
     "metadata": {},
     "output_type": "execute_result"
    }
   ],
   "source": [
    "train.describe().T"
   ]
  },
  {
   "cell_type": "code",
   "execution_count": 7,
   "id": "94548d3e",
   "metadata": {
    "scrolled": true
   },
   "outputs": [
    {
     "data": {
      "text/html": [
       "<div>\n",
       "<style scoped>\n",
       "    .dataframe tbody tr th:only-of-type {\n",
       "        vertical-align: middle;\n",
       "    }\n",
       "\n",
       "    .dataframe tbody tr th {\n",
       "        vertical-align: top;\n",
       "    }\n",
       "\n",
       "    .dataframe thead th {\n",
       "        text-align: right;\n",
       "    }\n",
       "</style>\n",
       "<table border=\"1\" class=\"dataframe\">\n",
       "  <thead>\n",
       "    <tr style=\"text-align: right;\">\n",
       "      <th></th>\n",
       "      <th>count</th>\n",
       "      <th>mean</th>\n",
       "      <th>std</th>\n",
       "      <th>min</th>\n",
       "      <th>25%</th>\n",
       "      <th>50%</th>\n",
       "      <th>75%</th>\n",
       "      <th>max</th>\n",
       "    </tr>\n",
       "  </thead>\n",
       "  <tbody>\n",
       "    <tr>\n",
       "      <th>bedrooms</th>\n",
       "      <td>8693.0</td>\n",
       "      <td>2.113770</td>\n",
       "      <td>0.910293</td>\n",
       "      <td>1.000000</td>\n",
       "      <td>1.000000</td>\n",
       "      <td>2.000000</td>\n",
       "      <td>3.000000</td>\n",
       "      <td>6.000000</td>\n",
       "    </tr>\n",
       "    <tr>\n",
       "      <th>latitude</th>\n",
       "      <td>8693.0</td>\n",
       "      <td>28.609733</td>\n",
       "      <td>0.123253</td>\n",
       "      <td>19.185120</td>\n",
       "      <td>28.562906</td>\n",
       "      <td>28.616625</td>\n",
       "      <td>28.651827</td>\n",
       "      <td>28.872597</td>\n",
       "    </tr>\n",
       "    <tr>\n",
       "      <th>longitude</th>\n",
       "      <td>8693.0</td>\n",
       "      <td>77.167162</td>\n",
       "      <td>0.103275</td>\n",
       "      <td>73.213829</td>\n",
       "      <td>77.102043</td>\n",
       "      <td>77.168251</td>\n",
       "      <td>77.224998</td>\n",
       "      <td>80.358467</td>\n",
       "    </tr>\n",
       "    <tr>\n",
       "      <th>distanceMetro(km)</th>\n",
       "      <td>8693.0</td>\n",
       "      <td>1.000589</td>\n",
       "      <td>11.821488</td>\n",
       "      <td>0.000692</td>\n",
       "      <td>0.456611</td>\n",
       "      <td>0.700091</td>\n",
       "      <td>1.099802</td>\n",
       "      <td>1096.479453</td>\n",
       "    </tr>\n",
       "    <tr>\n",
       "      <th>distanceAirport(km)</th>\n",
       "      <td>8693.0</td>\n",
       "      <td>13.798970</td>\n",
       "      <td>14.210962</td>\n",
       "      <td>1.784779</td>\n",
       "      <td>10.841833</td>\n",
       "      <td>13.190977</td>\n",
       "      <td>17.194253</td>\n",
       "      <td>1109.894053</td>\n",
       "    </tr>\n",
       "    <tr>\n",
       "      <th>distanceHospital(km)</th>\n",
       "      <td>8693.0</td>\n",
       "      <td>11.472104</td>\n",
       "      <td>14.039297</td>\n",
       "      <td>0.634508</td>\n",
       "      <td>8.104065</td>\n",
       "      <td>10.844672</td>\n",
       "      <td>15.542762</td>\n",
       "      <td>1115.621439</td>\n",
       "    </tr>\n",
       "    <tr>\n",
       "      <th>distanceRailway(km)</th>\n",
       "      <td>8693.0</td>\n",
       "      <td>11.535317</td>\n",
       "      <td>14.041086</td>\n",
       "      <td>0.774632</td>\n",
       "      <td>7.973600</td>\n",
       "      <td>11.162929</td>\n",
       "      <td>15.526913</td>\n",
       "      <td>1123.778457</td>\n",
       "    </tr>\n",
       "    <tr>\n",
       "      <th>area(square_meters)</th>\n",
       "      <td>8693.0</td>\n",
       "      <td>101.941383</td>\n",
       "      <td>61.574132</td>\n",
       "      <td>9.290000</td>\n",
       "      <td>55.740000</td>\n",
       "      <td>83.610000</td>\n",
       "      <td>139.350000</td>\n",
       "      <td>1440.000000</td>\n",
       "    </tr>\n",
       "  </tbody>\n",
       "</table>\n",
       "</div>"
      ],
      "text/plain": [
       "                       count        mean        std        min        25%  \\\n",
       "bedrooms              8693.0    2.113770   0.910293   1.000000   1.000000   \n",
       "latitude              8693.0   28.609733   0.123253  19.185120  28.562906   \n",
       "longitude             8693.0   77.167162   0.103275  73.213829  77.102043   \n",
       "distanceMetro(km)     8693.0    1.000589  11.821488   0.000692   0.456611   \n",
       "distanceAirport(km)   8693.0   13.798970  14.210962   1.784779  10.841833   \n",
       "distanceHospital(km)  8693.0   11.472104  14.039297   0.634508   8.104065   \n",
       "distanceRailway(km)   8693.0   11.535317  14.041086   0.774632   7.973600   \n",
       "area(square_meters)   8693.0  101.941383  61.574132   9.290000  55.740000   \n",
       "\n",
       "                            50%         75%          max  \n",
       "bedrooms               2.000000    3.000000     6.000000  \n",
       "latitude              28.616625   28.651827    28.872597  \n",
       "longitude             77.168251   77.224998    80.358467  \n",
       "distanceMetro(km)      0.700091    1.099802  1096.479453  \n",
       "distanceAirport(km)   13.190977   17.194253  1109.894053  \n",
       "distanceHospital(km)  10.844672   15.542762  1115.621439  \n",
       "distanceRailway(km)   11.162929   15.526913  1123.778457  \n",
       "area(square_meters)   83.610000  139.350000  1440.000000  "
      ]
     },
     "execution_count": 7,
     "metadata": {},
     "output_type": "execute_result"
    }
   ],
   "source": [
    "test.describe().T"
   ]
  },
  {
   "cell_type": "markdown",
   "id": "b23a32f4",
   "metadata": {},
   "source": [
    "# 결측치 확인"
   ]
  },
  {
   "cell_type": "code",
   "execution_count": 8,
   "id": "c840fab6",
   "metadata": {},
   "outputs": [
    {
     "data": {
      "text/plain": [
       "ID                        0\n",
       "propertyType              0\n",
       "bedrooms                  0\n",
       "latitude                  0\n",
       "longitude                 0\n",
       "suburbName                0\n",
       "distanceMetro(km)         0\n",
       "distanceAirport(km)       0\n",
       "distanceHospital(km)      0\n",
       "distanceRailway(km)       0\n",
       "area(square_meters)       0\n",
       "monthlyRent(us_dollar)    0\n",
       "dtype: int64"
      ]
     },
     "execution_count": 8,
     "metadata": {},
     "output_type": "execute_result"
    }
   ],
   "source": [
    "# 결측치 확인\n",
    "train.isnull().sum()"
   ]
  },
  {
   "cell_type": "code",
   "execution_count": 9,
   "id": "4b6778c5",
   "metadata": {},
   "outputs": [
    {
     "data": {
      "text/plain": [
       "ID                      0\n",
       "propertyType            0\n",
       "bedrooms                0\n",
       "latitude                0\n",
       "longitude               0\n",
       "suburbName              0\n",
       "distanceMetro(km)       0\n",
       "distanceAirport(km)     0\n",
       "distanceHospital(km)    0\n",
       "distanceRailway(km)     0\n",
       "area(square_meters)     0\n",
       "dtype: int64"
      ]
     },
     "execution_count": 9,
     "metadata": {},
     "output_type": "execute_result"
    }
   ],
   "source": [
    "test.isnull().sum()"
   ]
  },
  {
   "cell_type": "markdown",
   "id": "7039c3b3",
   "metadata": {},
   "source": [
    "#### 결측치 처리는 없어도 됌."
   ]
  },
  {
   "cell_type": "code",
   "execution_count": 10,
   "id": "c93afde4",
   "metadata": {},
   "outputs": [
    {
     "name": "stdout",
     "output_type": "stream",
     "text": [
      "<class 'pandas.core.frame.DataFrame'>\n",
      "RangeIndex: 8692 entries, 0 to 8691\n",
      "Data columns (total 12 columns):\n",
      " #   Column                  Non-Null Count  Dtype  \n",
      "---  ------                  --------------  -----  \n",
      " 0   ID                      8692 non-null   object \n",
      " 1   propertyType            8692 non-null   object \n",
      " 2   bedrooms                8692 non-null   int64  \n",
      " 3   latitude                8692 non-null   float64\n",
      " 4   longitude               8692 non-null   float64\n",
      " 5   suburbName              8692 non-null   object \n",
      " 6   distanceMetro(km)       8692 non-null   float64\n",
      " 7   distanceAirport(km)     8692 non-null   float64\n",
      " 8   distanceHospital(km)    8692 non-null   float64\n",
      " 9   distanceRailway(km)     8692 non-null   float64\n",
      " 10  area(square_meters)     8692 non-null   float64\n",
      " 11  monthlyRent(us_dollar)  8692 non-null   int64  \n",
      "dtypes: float64(7), int64(2), object(3)\n",
      "memory usage: 815.0+ KB\n"
     ]
    }
   ],
   "source": [
    "train.info()"
   ]
  },
  {
   "cell_type": "code",
   "execution_count": 11,
   "id": "2a6b6e2e",
   "metadata": {},
   "outputs": [],
   "source": [
    "# ID, propertyType, suburbName = object\n",
    "# 나머지는 int, float"
   ]
  },
  {
   "cell_type": "code",
   "execution_count": 12,
   "id": "04ee4534",
   "metadata": {},
   "outputs": [
    {
     "data": {
      "text/plain": [
       "array(['Apartment', 'Independent Floor', 'Independent House', 'Villa'],\n",
       "      dtype=object)"
      ]
     },
     "execution_count": 12,
     "metadata": {},
     "output_type": "execute_result"
    }
   ],
   "source": [
    "# 각 데이터들의 unique 값 살펴보기\n",
    "train['propertyType'].unique()"
   ]
  },
  {
   "cell_type": "code",
   "execution_count": 13,
   "id": "eecb28aa",
   "metadata": {},
   "outputs": [
    {
     "data": {
      "text/plain": [
       "array(['Delhi East', 'Delhi South', 'Delhi North', 'Other', 'Dwarka',\n",
       "       'West Delhi', 'Delhi Central', 'North Delhi', 'South West Delhi',\n",
       "       'Delhi West', 'Rohini', 'North West Delhi'], dtype=object)"
      ]
     },
     "execution_count": 13,
     "metadata": {},
     "output_type": "execute_result"
    }
   ],
   "source": [
    "train['suburbName'].unique()"
   ]
  },
  {
   "cell_type": "code",
   "execution_count": 14,
   "id": "2d9a77d7",
   "metadata": {},
   "outputs": [],
   "source": [
    "# 데이터를 살펴보기 전 가설을 설정해보자\n",
    "# 1. 델리의 중심부부터 멀어지면 가격이 떨어지지 않을까? => 연속형 x 연속형?\n",
    "# => 중심부의 위도와 경도를 찾아내어 비교해보자\n",
    "# 2. 공항, 은행, 병원, 지하철에서부터 가까우면 가격이 높지 않을까? => 연속형 x 연속형\n",
    "# 3. propertyType에 따라 가격이 달라지지 않을까 => 범주형 x 연속형"
   ]
  },
  {
   "cell_type": "code",
   "execution_count": 15,
   "id": "591ca731",
   "metadata": {},
   "outputs": [
    {
     "data": {
      "text/plain": [
       "count    8692.000000\n",
       "mean      321.376898\n",
       "std       230.962181\n",
       "min        14.000000\n",
       "25%       159.000000\n",
       "50%       258.000000\n",
       "75%       393.000000\n",
       "max      1476.000000\n",
       "Name: monthlyRent(us_dollar), dtype: float64"
      ]
     },
     "execution_count": 15,
     "metadata": {},
     "output_type": "execute_result"
    }
   ],
   "source": [
    "# 데이터에서 예측하고자 하는 타겟 y변수가 있기에, 타겟값부터 분석\n",
    "train['monthlyRent(us_dollar)'].describe()\n",
    "\n",
    "# 해석\n",
    "# 평균 321달러, 최솟값 = 14달러, 최대값 = 1476달러\n",
    "# 차이가 좀 있음, outlier 살펴보기"
   ]
  },
  {
   "cell_type": "code",
   "execution_count": 16,
   "id": "320659b1",
   "metadata": {},
   "outputs": [
    {
     "name": "stderr",
     "output_type": "stream",
     "text": [
      "/var/folders/k8/sgcmzprx7qx4jhg9khnv7wd80000gn/T/ipykernel_53102/490503661.py:4: UserWarning: \n",
      "\n",
      "`distplot` is a deprecated function and will be removed in seaborn v0.14.0.\n",
      "\n",
      "Please adapt your code to use either `displot` (a figure-level function with\n",
      "similar flexibility) or `histplot` (an axes-level function for histograms).\n",
      "\n",
      "For a guide to updating your code to use the new functions, please see\n",
      "https://gist.github.com/mwaskom/de44147ed2974457ad6372750bbe5751\n",
      "\n",
      "  dist = sns.distplot(train['monthlyRent(us_dollar)'])\n"
     ]
    },
    {
     "data": {
      "image/png": "[encoded data removed]",
      "text/plain": [
       "<Figure size 720x360 with 1 Axes>"
      ]
     },
     "metadata": {
      "needs_background": "light"
     },
     "output_type": "display_data"
    }
   ],
   "source": [
    "# distplot으로 살펴보자\n",
    "plt.figure(figsize = (10,5))\n",
    "\n",
    "dist = sns.distplot(train['monthlyRent(us_dollar)'])\n",
    "dist.set_xlabel('월세 가격')\n",
    "dist.set_ylabel('비율')\n",
    "\n",
    "plt.show()\n",
    "\n",
    "# 100 ~ 250달러에 매우 몰려있음\n",
    "# 1250달러에 살짝 모여있음."
   ]
  },
  {
   "cell_type": "code",
   "execution_count": 17,
   "id": "9af75bb6",
   "metadata": {},
   "outputs": [
    {
     "data": {
      "text/plain": [
       "4.595740899347671"
      ]
     },
     "execution_count": 17,
     "metadata": {},
     "output_type": "execute_result"
    }
   ],
   "source": [
    "#skewness(= 왜도) and kurtosis(= 첨도)\n",
    "train['monthlyRent(us_dollar)'].skew()\n",
    "train['monthlyRent(us_dollar)'].kurt()\n",
    "\n",
    "# 정규분포와 살짝 유사한 형태\n",
    "# 왜도정도가 있음\n",
    "# 첨도는 조금 뾰족함"
   ]
  },
  {
   "cell_type": "code",
   "execution_count": 18,
   "id": "2a36db3d",
   "metadata": {},
   "outputs": [
    {
     "data": {
      "image/png": "[encoded data removed]",
      "text/plain": [
       "<Figure size 432x288 with 1 Axes>"
      ]
     },
     "metadata": {
      "needs_background": "light"
     },
     "output_type": "display_data"
    }
   ],
   "source": [
    "# 종속변수가 정규분포를 따르지 않으면 회귀 예측 성능이 저하됌.\n",
    "# 종속변수를 정규분포 형태로 바꾸기 위해 로그 변환을 해보자\n",
    "sns.histplot(np.log1p(train['monthlyRent(us_dollar)']), kde=True)\n",
    "plt.show()\n",
    "\n",
    "# 정규분포와 유사하게 바뀜\n",
    "# 왜곡 완화\n",
    "# 로그변환을 한 후 진행해보자"
   ]
  },
  {
   "cell_type": "code",
   "execution_count": 19,
   "id": "ccb83413",
   "metadata": {},
   "outputs": [],
   "source": [
    "# y 변수 따로 빼내기 \n",
    "y = train['monthlyRent(us_dollar)']"
   ]
  },
  {
   "cell_type": "code",
   "execution_count": 1,
   "id": "0ed9e506",
   "metadata": {},
   "outputs": [
    {
     "ename": "NameError",
     "evalue": "name 'train' is not defined",
     "output_type": "error",
     "traceback": [
      "\u001b[0;31m---------------------------------------------------------------------------\u001b[0m",
      "\u001b[0;31mNameError\u001b[0m                                 Traceback (most recent call last)",
      "Input \u001b[0;32mIn [1]\u001b[0m, in \u001b[0;36m<cell line: 7>\u001b[0;34m()\u001b[0m\n\u001b[1;32m      1\u001b[0m \u001b[38;5;66;03m# 아까 설정했던 가설 중 1번\u001b[39;00m\n\u001b[1;32m      2\u001b[0m \u001b[38;5;66;03m# 델리의 중심부부터 멀어지면 가격이 떨어지지 않을까?\u001b[39;00m\n\u001b[1;32m      3\u001b[0m \u001b[38;5;66;03m# 위도의 경도의 차이를 절댓값으로 더했을 때 합계가 크면 중심부로부터 멀어짐\u001b[39;00m\n\u001b[1;32m      4\u001b[0m \u001b[38;5;66;03m# y축을 월세, x축을 중심부부터 멀어진 거리\u001b[39;00m\n\u001b[1;32m      5\u001b[0m \n\u001b[1;32m      6\u001b[0m \u001b[38;5;66;03m# 델리의 위도, 경도 = [28.61, 77.23]\u001b[39;00m\n\u001b[0;32m----> 7\u001b[0m train[\u001b[38;5;124m'\u001b[39m\u001b[38;5;124mla+lo\u001b[39m\u001b[38;5;124m'\u001b[39m] \u001b[38;5;241m=\u001b[39m \u001b[38;5;28mround\u001b[39m(\u001b[38;5;28mabs\u001b[39m(\u001b[43mtrain\u001b[49m[\u001b[38;5;124m'\u001b[39m\u001b[38;5;124mlatitude\u001b[39m\u001b[38;5;124m'\u001b[39m] \u001b[38;5;241m-\u001b[39m \u001b[38;5;241m28.61\u001b[39m) \u001b[38;5;241m+\u001b[39m \u001b[38;5;28mabs\u001b[39m(train[\u001b[38;5;124m'\u001b[39m\u001b[38;5;124mlongitude\u001b[39m\u001b[38;5;124m'\u001b[39m] \u001b[38;5;241m-\u001b[39m \u001b[38;5;241m77.23\u001b[39m),\u001b[38;5;241m3\u001b[39m)\n\u001b[1;32m      9\u001b[0m train \u001b[38;5;241m=\u001b[39m train\u001b[38;5;241m.\u001b[39msort_values([\u001b[38;5;124m'\u001b[39m\u001b[38;5;124mla+lo\u001b[39m\u001b[38;5;124m'\u001b[39m])\n\u001b[1;32m     10\u001b[0m train\u001b[38;5;241m.\u001b[39mtail(\u001b[38;5;241m5\u001b[39m)\n",
      "\u001b[0;31mNameError\u001b[0m: name 'train' is not defined"
     ]
    }
   ],
   "source": [
    "# 아까 설정했던 가설 중 1번\n",
    "# 델리의 중심부부터 멀어지면 가격이 떨어지지 않을까?\n",
    "# 위도의 경도의 차이를 절댓값으로 더했을 때 합계가 크면 중심부로부터 멀어짐\n",
    "# y축을 월세, x축을 중심부부터 멀어진 거리\n",
    "\n",
    "# 델리의 위도, 경도 = [28.61, 77.23]\n",
    "train['la+lo'] = round(abs(train['latitude'] - 28.61) + abs(train['longitude'] - 77.23),3)\n",
    "\n",
    "train = train.sort_values(['la+lo'])\n",
    "train.tail(5)\n",
    "\n",
    "# 마지막 데이터 2개는 너무 크기 때문에 제외하고 진행\n",
    "train_2 = train.drop([6988,8272])\n",
    "\n",
    "# plt 그리기\n",
    "plt.figure(figsize = (10,5))\n",
    "\n",
    "train_2.plot.scatter(x = 'la+lo', y = 'monthlyRent(us_dollar)')\n",
    "plt.xticks([0,0.25])\n",
    "\n",
    "plt.show()\n",
    "\n",
    "# 위도+경도 차이가 0 ~ 0.25면 월세가 높음.\n",
    "# 0.25부터 0.5까지는 월세가 그리 비싸지 않다.\n",
    "# => 중심부로부터 멀수록 월세가 싸다."
   ]
  },
  {
   "cell_type": "code",
   "execution_count": null,
   "id": "58e4e60e",
   "metadata": {},
   "outputs": [],
   "source": [
    "# 2. 공항, 은행, 병원, 지하철에서부터 가까우면 가격이 높지 않을까? => 연속형 x 연속형\n",
    "# 공항, 은행, 병원, 지하철의 거리를 다 더해서 비교 해보자 \n",
    "# 넷 다 가까울수록 월세가 비쌀거라 예상\n",
    "train['sum_gg'] = round(train['distanceMetro(km)'] + train['distanceAirport(km)'] \\\n",
    "                + train['distanceHospital(km)'] + train['distanceRailway(km)'],3)\n",
    "train['sum_gg'].describe()\n",
    "train = train.sort_values(['sum_gg'])\n",
    "train.tail(5)\n",
    "\n",
    "# 6988,8272는 숫자가 너무 크기에 삭제\n",
    "train_3 = train.drop([6988, 8272])\n",
    "\n",
    "# plt 그리기\n",
    "plt.figure(figsize = (10,5))\n",
    "\n",
    "train_3.plot.scatter(x = 'sum_gg', y = 'monthlyRent(us_dollar)')\n",
    "\n",
    "plt.show()\n",
    "\n",
    "# 마찬가지로 거리가 20 ~ 55km 대에 월세가 매우 높음\n",
    "# 55달러를 지나고 나서 부터 월세가 떨어짐"
   ]
  },
  {
   "cell_type": "code",
   "execution_count": null,
   "id": "bc1e0dc3",
   "metadata": {},
   "outputs": [],
   "source": [
    "# 데이터 스케일링\n",
    "# 범주형 제외한 나머지 변수들 스케일링 해주자\n",
    "from sklearn.preprocessing import StandardScaler\n",
    "scaler = StandardScaler()\n",
    "scale_col = ['bedrooms', 'latitude', 'longitude', 'distanceMetro(km)','distanceAirport(km)', 'distanceHospital(km)', 'distanceRailway(km)','area(square_meters)']\n",
    "train[scale_col] = scaler.fit_transform(train[scale_col]) "
   ]
  },
  {
   "cell_type": "code",
   "execution_count": null,
   "id": "2be8ec2c",
   "metadata": {},
   "outputs": [],
   "source": [
    "# 3. propertyType에 따라 가격이 달라지지 않을까 => 범주형 x 연속형\n",
    "plt.figure(figsize = (10,5))\n",
    "\n",
    "cnt = sns.boxplot(x = 'propertyType', y = 'monthlyRent(us_dollar)', data = train, \n",
    "                   palette = 'Set3')\n",
    "cnt.set_xlabel('propertyType')\n",
    "cnt.set_ylabel('dollar')\n",
    "\n",
    "plt.show()\n",
    "\n",
    "# 빌라 가격이 평균적으로 높다.\n",
    "# 이상치가 존재"
   ]
  },
  {
   "cell_type": "code",
   "execution_count": 20,
   "id": "a7677ce7",
   "metadata": {},
   "outputs": [],
   "source": [
    "# 이상치 없애기"
   ]
  },
  {
   "cell_type": "code",
   "execution_count": null,
   "id": "17389d87",
   "metadata": {},
   "outputs": [],
   "source": [
    "# 이상치 제거 전 알파벳 순서대로 properType 정리\n",
    "train = train.sort_values(['propertyType'])"
   ]
  },
  {
   "cell_type": "code",
   "execution_count": null,
   "id": "cb157128",
   "metadata": {},
   "outputs": [],
   "source": [
    "# 행 위치 확인하기\n",
    "print(len(train[train['propertyType'] == 'Apartment'])) # 0 : 2836\n",
    "print(len(train[train['propertyType'] == 'Independent Floor'])) # 2836 : 8275\n",
    "#print(len(train[train['propertyType'] == 'Independent House'])) # 8275 : 8681"
   ]
  },
  {
   "cell_type": "code",
   "execution_count": null,
   "id": "3bf165ea",
   "metadata": {},
   "outputs": [],
   "source": [
    "# propertyType 중 Apartment, Independent Floor, Independent House 이상치를 제거할 거임\n",
    "q3_apart = train[train['propertyType'] == 'Apartment']['monthlyRent(us_dollar)'].quantile(0.75)\n",
    "q1_apart = train[train['propertyType'] == 'Apartment']['monthlyRent(us_dollar)'].quantile(0.25)\n",
    "q3_floor = train[train['propertyType'] == 'Independent Floor']['monthlyRent(us_dollar)'].quantile(0.75)\n",
    "q1_floor = train[train['propertyType'] == 'Independent Floor']['monthlyRent(us_dollar)'].quantile(0.25)\n",
    "q3_house = train[train['propertyType'] == 'Independent House']['monthlyRent(us_dollar)'].quantile(0.75)\n",
    "q1_house = train[train['propertyType'] == 'Independent House']['monthlyRent(us_dollar)'].quantile(0.25)\n",
    "\n",
    "\n",
    "# IQR 방식\n",
    "# minimum은 없으니 maximum만\n",
    "apart_up = q3_apart + 1.5*(q3_apart - q1_apart)\n",
    "floor_up = q3_floor + 1.5*(q3_floor - q1_floor)\n",
    "house_up = q3_house + 1.5*(q3_house - q1_house)\n",
    "\n",
    "# 이상치 대체는 상한값\n",
    "for i in range(0, len(train[train['propertyType'] == 'Apartment'])) :\n",
    "    if train['monthlyRent(us_dollar)'].values[i] > apart_up :\n",
    "        train['monthlyRent(us_dollar)'].values[i] = apart_up\n",
    "    else : \n",
    "        pass\n",
    "\n",
    "for i in range(len(train[train['propertyType'] == 'Apartment']), len(train[train['propertyType'] == 'Apartment']) + len(train[train['propertyType'] == 'Independent Floor'])) :\n",
    "    if train['monthlyRent(us_dollar)'].values[i] > floor_up :\n",
    "        train['monthlyRent(us_dollar)'].values[i] = floor_up\n",
    "    else : \n",
    "        pass\n",
    "    \n",
    "for i in range(len(train[train['propertyType'] == 'Apartment']) + len(train[train['propertyType'] == 'Independent Floor']), len(train[train['propertyType'] == 'Apartment']) + len(train[train['propertyType'] == 'Independent Floor']) +len(train[train['propertyType'] == 'Independent House'])):\n",
    "    if train['monthlyRent(us_dollar)'].values[i] > house_up :\n",
    "        train['monthlyRent(us_dollar)'].values[i] = house_up\n",
    "    else : \n",
    "        pass\n"
   ]
  },
  {
   "cell_type": "code",
   "execution_count": null,
   "id": "5f94a65c",
   "metadata": {},
   "outputs": [],
   "source": [
    "# 이상치가 사라졌는지 확인하기\n",
    "plt.figure(figsize = (10,5))\n",
    "\n",
    "cnt = sns.boxplot(x = 'propertyType', y = 'monthlyRent(us_dollar)', data = train, \n",
    "                   palette = 'Set3')\n",
    "cnt.set_xlabel('propertyType')\n",
    "cnt.set_ylabel('dollar')\n",
    "\n",
    "plt.show()\n",
    "\n",
    "# 이상치 다 사라짐"
   ]
  },
  {
   "cell_type": "code",
   "execution_count": 21,
   "id": "818ab2eb",
   "metadata": {},
   "outputs": [],
   "source": [
    "# train,test 에 ID, 위도, 경도, distance, dollar 드랍 시키고 거리 합으로 모델 돌려보기\n",
    "#train_drop = train.drop(columns = ['ID','latitude', 'longitude', 'distanceMetro(km)','distanceAirport(km)',\n",
    "                              #'distanceHospital(km)', 'distanceRailway(km)','monthlyRent(us_dollar)'])\n",
    "#test_drop = test.drop(columns = ['ID','latitude', 'longitude', 'distanceMetro(km)','distanceAirport(km)',\n",
    "                              #'distanceHospital(km)', 'distanceRailway(km)'])\n",
    "\n",
    "# train과 test에 있던 la+lo, sum_gg 없애기\n",
    "train_drop = train.drop(columns = ['ID', 'monthlyRent(us_dollar)'])\n",
    "test_drop = test.drop(columns = ['ID'])"
   ]
  },
  {
   "cell_type": "markdown",
   "id": "2fefb8e5",
   "metadata": {},
   "source": [
    "# one-hot encoding"
   ]
  },
  {
   "cell_type": "code",
   "execution_count": 22,
   "id": "93568da2",
   "metadata": {},
   "outputs": [],
   "source": [
    "# one - hot encoding\n",
    "train_drop_dum = pd.get_dummies(train_drop)\n",
    "test_drop_dum = pd.get_dummies(test_drop)"
   ]
  },
  {
   "cell_type": "code",
   "execution_count": 23,
   "id": "9f9012f2",
   "metadata": {},
   "outputs": [],
   "source": [
    "# 데이터 나누고 학습시키기\n",
    "from sklearn.model_selection import train_test_split\n",
    "\n",
    "X_TRAIN, X_TEST, Y_TRAIN, Y_TEST = train_test_split(train_drop_dum, y, \\\n",
    "                                                   test_size = 0.2)"
   ]
  },
  {
   "cell_type": "code",
   "execution_count": null,
   "id": "f8cad118",
   "metadata": {},
   "outputs": [],
   "source": [
    "# 다중공선성 확인\n",
    "from statsmodels.stats.outliers_influence import variance_inflation_factor\n",
    "\n",
    "vif = pd.DataFrame()\n",
    "vif['columns'] = X_TRAIN.columns\n",
    "vif[\"VIF\"] = [variance_inflation_factor(X_TRAIN.values, i) for i in range(X_TRAIN.shape[1])]\n",
    "vif.round(1)"
   ]
  },
  {
   "cell_type": "code",
   "execution_count": 24,
   "id": "ccb5c930",
   "metadata": {},
   "outputs": [
    {
     "data": {
      "text/html": [
       "<style>#sk-container-id-1 {color: black;background-color: white;}#sk-container-id-1 pre{padding: 0;}#sk-container-id-1 div.sk-toggleable {background-color: white;}#sk-container-id-1 label.sk-toggleable__label {cursor: pointer;display: block;width: 100%;margin-bottom: 0;padding: 0.3em;box-sizing: border-box;text-align: center;}#sk-container-id-1 label.sk-toggleable__label-arrow:before {content: \"▸\";float: left;margin-right: 0.25em;color: #696969;}#sk-container-id-1 label.sk-toggleable__label-arrow:hover:before {color: black;}#sk-container-id-1 div.sk-estimator:hover label.sk-toggleable__label-arrow:before {color: black;}#sk-container-id-1 div.sk-toggleable__content {max-height: 0;max-width: 0;overflow: hidden;text-align: left;background-color: #f0f8ff;}#sk-container-id-1 div.sk-toggleable__content pre {margin: 0.2em;color: black;border-radius: 0.25em;background-color: #f0f8ff;}#sk-container-id-1 input.sk-toggleable__control:checked~div.sk-toggleable__content {max-height: 200px;max-width: 100%;overflow: auto;}#sk-container-id-1 input.sk-toggleable__control:checked~label.sk-toggleable__label-arrow:before {content: \"▾\";}#sk-container-id-1 div.sk-estimator input.sk-toggleable__control:checked~label.sk-toggleable__label {background-color: #d4ebff;}#sk-container-id-1 div.sk-label input.sk-toggleable__control:checked~label.sk-toggleable__label {background-color: #d4ebff;}#sk-container-id-1 input.sk-hidden--visually {border: 0;clip: rect(1px 1px 1px 1px);clip: rect(1px, 1px, 1px, 1px);height: 1px;margin: -1px;overflow: hidden;padding: 0;position: absolute;width: 1px;}#sk-container-id-1 div.sk-estimator {font-family: monospace;background-color: #f0f8ff;border: 1px dotted black;border-radius: 0.25em;box-sizing: border-box;margin-bottom: 0.5em;}#sk-container-id-1 div.sk-estimator:hover {background-color: #d4ebff;}#sk-container-id-1 div.sk-parallel-item::after {content: \"\";width: 100%;border-bottom: 1px solid gray;flex-grow: 1;}#sk-container-id-1 div.sk-label:hover label.sk-toggleable__label {background-color: #d4ebff;}#sk-container-id-1 div.sk-serial::before {content: \"\";position: absolute;border-left: 1px solid gray;box-sizing: border-box;top: 0;bottom: 0;left: 50%;z-index: 0;}#sk-container-id-1 div.sk-serial {display: flex;flex-direction: column;align-items: center;background-color: white;padding-right: 0.2em;padding-left: 0.2em;position: relative;}#sk-container-id-1 div.sk-item {position: relative;z-index: 1;}#sk-container-id-1 div.sk-parallel {display: flex;align-items: stretch;justify-content: center;background-color: white;position: relative;}#sk-container-id-1 div.sk-item::before, #sk-container-id-1 div.sk-parallel-item::before {content: \"\";position: absolute;border-left: 1px solid gray;box-sizing: border-box;top: 0;bottom: 0;left: 50%;z-index: -1;}#sk-container-id-1 div.sk-parallel-item {display: flex;flex-direction: column;z-index: 1;position: relative;background-color: white;}#sk-container-id-1 div.sk-parallel-item:first-child::after {align-self: flex-end;width: 50%;}#sk-container-id-1 div.sk-parallel-item:last-child::after {align-self: flex-start;width: 50%;}#sk-container-id-1 div.sk-parallel-item:only-child::after {width: 0;}#sk-container-id-1 div.sk-dashed-wrapped {border: 1px dashed gray;margin: 0 0.4em 0.5em 0.4em;box-sizing: border-box;padding-bottom: 0.4em;background-color: white;}#sk-container-id-1 div.sk-label label {font-family: monospace;font-weight: bold;display: inline-block;line-height: 1.2em;}#sk-container-id-1 div.sk-label-container {text-align: center;}#sk-container-id-1 div.sk-container {/* jupyter's `normalize.less` sets `[hidden] { display: none; }` but bootstrap.min.css set `[hidden] { display: none !important; }` so we also need the `!important` here to be able to override the default hidden behavior on the sphinx rendered scikit-learn.org. See: https://github.com/scikit-learn/scikit-learn/issues/21755 */display: inline-block !important;position: relative;}#sk-container-id-1 div.sk-text-repr-fallback {display: none;}</style><div id=\"sk-container-id-1\" class=\"sk-top-container\"><div class=\"sk-text-repr-fallback\"><pre>XGBRegressor(base_score=0.5, booster=&#x27;gbtree&#x27;, callbacks=None,\n",
       "             colsample_bylevel=1, colsample_bynode=1, colsample_bytree=1,\n",
       "             early_stopping_rounds=None, enable_categorical=False,\n",
       "             eval_metric=None, feature_types=None, gamma=0, gpu_id=-1,\n",
       "             grow_policy=&#x27;depthwise&#x27;, importance_type=None,\n",
       "             interaction_constraints=&#x27;&#x27;, learning_rate=0.300000012, max_bin=256,\n",
       "             max_cat_threshold=64, max_cat_to_onehot=4, max_delta_step=0,\n",
       "             max_depth=3, max_leaves=0, min_child_weight=1, missing=nan,\n",
       "             monotone_constraints=&#x27;()&#x27;, n_estimators=100, n_jobs=0,\n",
       "             num_parallel_tree=1, predictor=&#x27;auto&#x27;, random_state=0, ...)</pre><b>In a Jupyter environment, please rerun this cell to show the HTML representation or trust the notebook. <br />On GitHub, the HTML representation is unable to render, please try loading this page with nbviewer.org.</b></div><div class=\"sk-container\" hidden><div class=\"sk-item\"><div class=\"sk-estimator sk-toggleable\"><input class=\"sk-toggleable__control sk-hidden--visually\" id=\"sk-estimator-id-1\" type=\"checkbox\" checked><label for=\"sk-estimator-id-1\" class=\"sk-toggleable__label sk-toggleable__label-arrow\">XGBRegressor</label><div class=\"sk-toggleable__content\"><pre>XGBRegressor(base_score=0.5, booster=&#x27;gbtree&#x27;, callbacks=None,\n",
       "             colsample_bylevel=1, colsample_bynode=1, colsample_bytree=1,\n",
       "             early_stopping_rounds=None, enable_categorical=False,\n",
       "             eval_metric=None, feature_types=None, gamma=0, gpu_id=-1,\n",
       "             grow_policy=&#x27;depthwise&#x27;, importance_type=None,\n",
       "             interaction_constraints=&#x27;&#x27;, learning_rate=0.300000012, max_bin=256,\n",
       "             max_cat_threshold=64, max_cat_to_onehot=4, max_delta_step=0,\n",
       "             max_depth=3, max_leaves=0, min_child_weight=1, missing=nan,\n",
       "             monotone_constraints=&#x27;()&#x27;, n_estimators=100, n_jobs=0,\n",
       "             num_parallel_tree=1, predictor=&#x27;auto&#x27;, random_state=0, ...)</pre></div></div></div></div></div>"
      ],
      "text/plain": [
       "XGBRegressor(base_score=0.5, booster='gbtree', callbacks=None,\n",
       "             colsample_bylevel=1, colsample_bynode=1, colsample_bytree=1,\n",
       "             early_stopping_rounds=None, enable_categorical=False,\n",
       "             eval_metric=None, feature_types=None, gamma=0, gpu_id=-1,\n",
       "             grow_policy='depthwise', importance_type=None,\n",
       "             interaction_constraints='', learning_rate=0.300000012, max_bin=256,\n",
       "             max_cat_threshold=64, max_cat_to_onehot=4, max_delta_step=0,\n",
       "             max_depth=3, max_leaves=0, min_child_weight=1, missing=nan,\n",
       "             monotone_constraints='()', n_estimators=100, n_jobs=0,\n",
       "             num_parallel_tree=1, predictor='auto', random_state=0, ...)"
      ]
     },
     "execution_count": 24,
     "metadata": {},
     "output_type": "execute_result"
    }
   ],
   "source": [
    "# modeling\n",
    "from xgboost import XGBRegressor\n",
    "model = XGBRegressor(n_estimators = 100, max_depth = 3)\n",
    "model.fit(X_TRAIN, Y_TRAIN)"
   ]
  },
  {
   "cell_type": "markdown",
   "id": "31b5d95f",
   "metadata": {},
   "source": [
    "from sklearn.linear_model import Ridge\n",
    "model = Ridge(alpha = 0.25)\n",
    "model.fit(X_TRAIN, Y_TRAIN)"
   ]
  },
  {
   "cell_type": "code",
   "execution_count": 25,
   "id": "6fa1e974",
   "metadata": {},
   "outputs": [],
   "source": [
    "y_test_predicted = model.predict(test_drop_dum)"
   ]
  },
  {
   "cell_type": "code",
   "execution_count": 26,
   "id": "e9bcb861",
   "metadata": {},
   "outputs": [],
   "source": [
    "submit = pd.read_csv('/Users/kimdaehyeon/dacon/데이콘 Basic 해외 부동산 월세 예측 AI 경진대회/open/sample_submission.csv')"
   ]
  },
  {
   "cell_type": "code",
   "execution_count": 27,
   "id": "97640926",
   "metadata": {},
   "outputs": [
    {
     "data": {
      "text/html": [
       "<div>\n",
       "<style scoped>\n",
       "    .dataframe tbody tr th:only-of-type {\n",
       "        vertical-align: middle;\n",
       "    }\n",
       "\n",
       "    .dataframe tbody tr th {\n",
       "        vertical-align: top;\n",
       "    }\n",
       "\n",
       "    .dataframe thead th {\n",
       "        text-align: right;\n",
       "    }\n",
       "</style>\n",
       "<table border=\"1\" class=\"dataframe\">\n",
       "  <thead>\n",
       "    <tr style=\"text-align: right;\">\n",
       "      <th></th>\n",
       "      <th>ID</th>\n",
       "      <th>monthlyRent(us_dollar)</th>\n",
       "    </tr>\n",
       "  </thead>\n",
       "  <tbody>\n",
       "    <tr>\n",
       "      <th>0</th>\n",
       "      <td>Test_0000</td>\n",
       "      <td>180.074173</td>\n",
       "    </tr>\n",
       "    <tr>\n",
       "      <th>1</th>\n",
       "      <td>Test_0001</td>\n",
       "      <td>239.271393</td>\n",
       "    </tr>\n",
       "    <tr>\n",
       "      <th>2</th>\n",
       "      <td>Test_0002</td>\n",
       "      <td>332.610809</td>\n",
       "    </tr>\n",
       "    <tr>\n",
       "      <th>3</th>\n",
       "      <td>Test_0003</td>\n",
       "      <td>193.907959</td>\n",
       "    </tr>\n",
       "    <tr>\n",
       "      <th>4</th>\n",
       "      <td>Test_0004</td>\n",
       "      <td>91.812859</td>\n",
       "    </tr>\n",
       "  </tbody>\n",
       "</table>\n",
       "</div>"
      ],
      "text/plain": [
       "          ID  monthlyRent(us_dollar)\n",
       "0  Test_0000              180.074173\n",
       "1  Test_0001              239.271393\n",
       "2  Test_0002              332.610809\n",
       "3  Test_0003              193.907959\n",
       "4  Test_0004               91.812859"
      ]
     },
     "execution_count": 27,
     "metadata": {},
     "output_type": "execute_result"
    }
   ],
   "source": [
    "submit['monthlyRent(us_dollar)'] = y_test_predicted\n",
    "submit.head()"
   ]
  },
  {
   "cell_type": "code",
   "execution_count": 28,
   "id": "39d68a6c",
   "metadata": {},
   "outputs": [],
   "source": [
    "submit.to_csv('./submit.csv', index=False)"
   ]
  },
  {
   "cell_type": "code",
   "execution_count": 29,
   "id": "d29c33aa",
   "metadata": {},
   "outputs": [],
   "source": [
    "Y_TEST_predicted = model.predict(X_TEST)"
   ]
  },
  {
   "cell_type": "code",
   "execution_count": 30,
   "id": "baaf9578",
   "metadata": {},
   "outputs": [
    {
     "data": {
      "text/plain": [
       "104.77353187033206"
      ]
     },
     "execution_count": 30,
     "metadata": {},
     "output_type": "execute_result"
    }
   ],
   "source": [
    "from sklearn.metrics import mean_squared_error \n",
    "MSE = mean_squared_error(Y_TEST, Y_TEST_predicted) \n",
    "np.sqrt(MSE)"
   ]
  },
  {
   "cell_type": "code",
   "execution_count": 31,
   "id": "354ad8c6",
   "metadata": {},
   "outputs": [
    {
     "name": "stdout",
     "output_type": "stream",
     "text": [
      "0.8133235351829345\n"
     ]
    }
   ],
   "source": [
    "from sklearn.metrics import r2_score\n",
    "r2 = r2_score(Y_TEST, Y_TEST_predicted)\n",
    "print(r2)"
   ]
  },
  {
   "cell_type": "markdown",
   "id": "82f1df13",
   "metadata": {},
   "source": [
    "### 첫 데이터 분석이다보니 여러가지를 해보고 싶었음\n",
    "### 내가 정한 여러가지 가설들을 두고 결과들도 확인해보고 싶었음\n",
    "### 하지만 좀 미숙한 점들을 많이 발견함\n",
    "### 다음에는 더 확실하게 공부해서 여러 가지들을 더 살펴보고 싶음"
   ]
  }
 ],
 "metadata": {
  "kernelspec": {
   "display_name": "Python 3 (ipykernel)",
   "language": "python",
   "name": "python3"
  },
  "language_info": {
   "codemirror_mode": {
    "name": "ipython",
    "version": 3
   },
   "file_extension": ".py",
   "mimetype": "text/x-python",
   "name": "python",
   "nbconvert_exporter": "python",
   "pygments_lexer": "ipython3",
   "version": "3.8.13"
  }
 },
 "nbformat": 4,
 "nbformat_minor": 5
}
